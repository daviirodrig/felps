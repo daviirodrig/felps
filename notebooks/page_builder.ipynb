{
 "cells": [
  {
   "cell_type": "code",
   "execution_count": null,
   "metadata": {},
   "outputs": [],
   "source": [
    "import json\n",
    "from typing import List\n",
    "from jinja2 import Template"
   ]
  },
  {
   "cell_type": "code",
   "execution_count": null,
   "metadata": {},
   "outputs": [],
   "source": [
    "with open(\"../templates/template.html\") as f:\n",
    "    template = Template(f.read())\n",
    "\n",
    "with open(\"../categorized_emotes.json\", 'r') as f:\n",
    "    emotes = json.load(f)\n",
    "\n",
    "# with open(\"emotes.json\") as f:\n",
    "#     emotes = sorted([json.loads(x) for x in json.load(f)], key=lambda d: d['name'])\n",
    "\n",
    "# with open(\"colors.json\") as f:\n",
    "#     cores = json.load(f)\n",
    "\n",
    "# with open(\"community.json\") as f:\n",
    "#     community = json.load(f)[\"community\"]\n",
    "\n",
    "# with open(\"variant.json\") as f:\n",
    "#     variants = json.load(f)['variantes']"
   ]
  },
  {
   "cell_type": "code",
   "execution_count": null,
   "metadata": {},
   "outputs": [],
   "source": [
    "#sorted_ = {\n",
    "#  \"amarelo\"    : sorted([x for x in emotes if x['id'] in cores['amarelo'] and x['id'] not in variants], key=lambda d: d['name']),\n",
    "#  \"amareloV\"   : sorted([x for x in emotes if x['id'] in (cores['amarelo'], *variants)], key=lambda d: d['name']),\n",
    "#  \"laranja\"    : sorted([x for x in emotes if x['id'] in cores['laranja'] and x['id'] not in variants], key=lambda d: d['name']),\n",
    "#  \"laranjaV\"   : sorted([x for x in emotes if x['id'] in (cores['laranja'], *variants)], key=lambda d: d['name']),\n",
    "#  \"rosa\"       : sorted([x for x in emotes if x['id'] in cores['rosa'] and x['id'] not in variants], key=lambda d: d['name']),\n",
    "#  \"rosaV\"      : sorted([x for x in emotes if x['id'] in (cores['rosa'], *variants)], key=lambda d: d['name']),\n",
    "#  \"community\"  : sorted([x for x in emotes if x['id'] in community], key=lambda d: d['name']),\n",
    "#  \"variantes\"  : sorted([x for x in emotes if x['id'] in variants], key=lambda d: d['name']),\n",
    "#  \"outros\"     : sorted([x for x in emotes if x['id'] not in (*cores['amarelo'], *cores['laranja'], *cores['rosa'], *variants)], key=lambda d: d['name'])\n",
    "#}"
   ]
  },
  {
   "cell_type": "code",
   "execution_count": null,
   "metadata": {},
   "outputs": [],
   "source": [
    "#%debug\n",
    "obj = {\n",
    "  \"amarelo\"  : [x for x in emotes if x[\"color\"] == \"amarelo\" and x[\"is_variant\"] is False],\n",
    "  \"laranja\"  : [x for x in emotes if x[\"color\"] == \"laranja\" and x[\"is_variant\"] is False],\n",
    "  \"rosa\"     : [x for x in emotes if x[\"color\"] == \"rosa\" and x[\"is_variant\"] is False],\n",
    "  \"community\": [x for x in emotes if x[\"is_community\"] is True],\n",
    "  \"variants\" : [x for x in emotes if x[\"is_variant\"] is True]\n",
    "}\n",
    "\n",
    "obj[\"outros\"] = [x for x in emotes if x['id'] not in (*obj['amarelo'], *obj['laranja'], *obj['rosa'], *obj[\"community\"])]"
   ]
  },
  {
   "cell_type": "code",
   "execution_count": null,
   "metadata": {},
   "outputs": [],
   "source": [
    "rendered = template.render(emotes=obj)\n",
    "with open(\"../index.html\", \"+w\") as f:\n",
    "    f.write(rendered)"
   ]
  }
 ],
 "metadata": {
  "kernelspec": {
   "display_name": "Python 3.10.6 ('.venv': venv)",
   "language": "python",
   "name": "python3"
  },
  "language_info": {
   "codemirror_mode": {
    "name": "ipython",
    "version": 3
   },
   "file_extension": ".py",
   "mimetype": "text/x-python",
   "name": "python",
   "nbconvert_exporter": "python",
   "pygments_lexer": "ipython3",
   "version": "3.10.6"
  },
  "orig_nbformat": 4,
  "vscode": {
   "interpreter": {
    "hash": "8fb588d0bb03c7d29a089e97cf15e8b23c65d54bd21916ebe6c836aa1d1d907d"
   }
  }
 },
 "nbformat": 4,
 "nbformat_minor": 2
}
