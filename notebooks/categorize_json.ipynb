{
 "cells": [
  {
   "cell_type": "code",
   "execution_count": 14,
   "metadata": {},
   "outputs": [],
   "source": [
    "import json"
   ]
  },
  {
   "cell_type": "code",
   "execution_count": 15,
   "metadata": {},
   "outputs": [],
   "source": [
    "with open(\"emotes.json\") as f:\n",
    "    emotes = sorted([json.loads(x) for x in json.load(f)], key=lambda d: d['name'])\n",
    "\n",
    "with open(\"colors.json\") as f:\n",
    "    cores = json.load(f)\n",
    "\n",
    "with open(\"community.json\") as f:\n",
    "    community = json.load(f)[\"community\"]\n",
    "\n",
    "with open(\"variant.json\") as f:\n",
    "    variants = json.load(f)['variantes']"
   ]
  },
  {
   "cell_type": "code",
   "execution_count": 16,
   "metadata": {},
   "outputs": [],
   "source": [
    "def checks(emote):\n",
    "    emote[\"color\"] = ''\n",
    "    for color, ids in cores.items():\n",
    "        if emote[\"id\"] in ids:\n",
    "            emote[\"color\"] = color\n",
    "            break\n",
    "\n",
    "    emote[\"is_variant\"] = True if emote[\"id\"] in variants else False\n",
    "    emote[\"is_community\"] = True if emote[\"id\"] in community else False\n",
    "\n",
    "    return emote\n"
   ]
  },
  {
   "cell_type": "code",
   "execution_count": 17,
   "metadata": {},
   "outputs": [],
   "source": [
    "categorized_emotes = [checks(emote) for emote in emotes]"
   ]
  },
  {
   "cell_type": "code",
   "execution_count": 19,
   "metadata": {},
   "outputs": [],
   "source": [
    "with open(\"categorized_emotes.json\", '+w') as f:\n",
    "    json.dump(categorized_emotes, f, indent=2)\n"
   ]
  }
 ],
 "metadata": {
  "kernelspec": {
   "display_name": "Python 3.10.6 ('.venv': venv)",
   "language": "python",
   "name": "python3"
  },
  "language_info": {
   "codemirror_mode": {
    "name": "ipython",
    "version": 3
   },
   "file_extension": ".py",
   "mimetype": "text/x-python",
   "name": "python",
   "nbconvert_exporter": "python",
   "pygments_lexer": "ipython3",
   "version": "3.10.6"
  },
  "orig_nbformat": 4,
  "vscode": {
   "interpreter": {
    "hash": "8fb588d0bb03c7d29a089e97cf15e8b23c65d54bd21916ebe6c836aa1d1d907d"
   }
  }
 },
 "nbformat": 4,
 "nbformat_minor": 2
}
